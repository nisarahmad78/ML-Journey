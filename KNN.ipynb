{
 "cells": [
  {
   "cell_type": "code",
   "execution_count": null,
   "id": "f22f3e48",
   "metadata": {},
   "outputs": [],
   "source": [
    "'''\n",
    "a retail company want to predict customer purchase behaviour based on their age, salary and past purchase history. The company aims is to using \n",
    "K-nearest neighbour to classify the customer into the potential buying the group to personalize marketing strategies.\n",
    "This predictive model help the company understand and target the specific customer segment more effictively thereby increaseing, sales and\n",
    "customer satisfaction\n",
    "'''"
   ]
  },
  {
   "cell_type": "code",
   "execution_count": 1,
   "id": "37beac56",
   "metadata": {},
   "outputs": [],
   "source": [
    "import numpy as np\n",
    "from sklearn.model_selection import train_test_split\n",
    "from sklearn.preprocessing import StandardScaler\n",
    "from sklearn.neighbors import KNeighborsClassifier\n"
   ]
  },
  {
   "cell_type": "code",
   "execution_count": 4,
   "id": "833f365c",
   "metadata": {},
   "outputs": [],
   "source": [
    "data = np.array([[25,50000,2],[30,80000,1],[35,60000,3],[20,30000,2],[40, 90000,1],[45,75000,2]])\n",
    "labels = np.array([1,2,1,0,2,1])"
   ]
  },
  {
   "cell_type": "code",
   "execution_count": 5,
   "id": "e7540eb2",
   "metadata": {},
   "outputs": [],
   "source": [
    "X_train,X_test,Y_train,Y_test = train_test_split(data,labels, test_size=.2, random_state=45)"
   ]
  },
  {
   "cell_type": "code",
   "execution_count": 6,
   "id": "87037d9d",
   "metadata": {},
   "outputs": [],
   "source": [
    "scale = StandardScaler()\n",
    "X_train = scale.fit_transform(X_train)\n",
    "X_test = scale.fit_transform(X_test)\n",
    "\n",
    "\n"
   ]
  }
 ],
 "metadata": {
  "kernelspec": {
   "display_name": "venv",
   "language": "python",
   "name": "python3"
  },
  "language_info": {
   "codemirror_mode": {
    "name": "ipython",
    "version": 3
   },
   "file_extension": ".py",
   "mimetype": "text/x-python",
   "name": "python",
   "nbconvert_exporter": "python",
   "pygments_lexer": "ipython3",
   "version": "3.13.2"
  }
 },
 "nbformat": 4,
 "nbformat_minor": 5
}
