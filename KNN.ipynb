{
 "cells": [
  {
   "cell_type": "code",
   "execution_count": null,
   "id": "f22f3e48",
   "metadata": {},
   "outputs": [],
   "source": [
    "'''\n",
    "a retail company want to predict customer purchase behaviour based on their age, salary and past purchase history. The company aims is to using \n",
    "K-nearest neighbour to classify the customer into the potential buying the group to personalize marketing strategies.\n",
    "This predictive model help the company understand and target the specific customer segment more effictively thereby increaseing, sales and\n",
    "customer satisfaction\n",
    "'''"
   ]
  },
  {
   "cell_type": "code",
   "execution_count": null,
   "id": "37beac56",
   "metadata": {},
   "outputs": [],
   "source": [
    "import numpy as np\n",
    "from sklearn.model_selection import train_test_split\n",
    "from sklearn.preprocessing import StandardScaler\n",
    "from sklearn.neighbors import KNeighborsClassifier\n"
   ]
  }
 ],
 "metadata": {
  "language_info": {
   "name": "python"
  }
 },
 "nbformat": 4,
 "nbformat_minor": 5
}
