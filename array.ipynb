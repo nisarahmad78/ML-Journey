{
 "cells": [
  {
   "cell_type": "markdown",
   "id": "f980bf39",
   "metadata": {},
   "source": [
    " Install (if not already installed)\n",
    " !pip install numpy\n",
    "\n",
    " Import"
   ]
  },
  {
   "cell_type": "code",
   "execution_count": 3,
   "id": "0a8e0c47",
   "metadata": {},
   "outputs": [],
   "source": [
    "import numpy as np"
   ]
  },
  {
   "cell_type": "markdown",
   "id": "2439fa2e",
   "metadata": {},
   "source": [
    "#Step 2: Creating Arrays\n",
    "#1D Array"
   ]
  },
  {
   "cell_type": "code",
   "execution_count": 4,
   "id": "cf084323",
   "metadata": {},
   "outputs": [],
   "source": [
    "arr1 = np.array([1, 2, 3])"
   ]
  },
  {
   "cell_type": "markdown",
   "id": "4738a35e",
   "metadata": {},
   "source": [
    "#2D Array"
   ]
  },
  {
   "cell_type": "code",
   "execution_count": 5,
   "id": "c072e11e",
   "metadata": {},
   "outputs": [],
   "source": [
    "arr2 = np.array([[1, 2], [3, 4]])"
   ]
  },
  {
   "cell_type": "markdown",
   "id": "40aa0c8e",
   "metadata": {},
   "source": [
    "# Special Arrays"
   ]
  },
  {
   "cell_type": "code",
   "execution_count": 6,
   "id": "19b44f52",
   "metadata": {},
   "outputs": [
    {
     "data": {
      "text/plain": [
       "array([0.  , 0.25, 0.5 , 0.75, 1.  ])"
      ]
     },
     "execution_count": 6,
     "metadata": {},
     "output_type": "execute_result"
    }
   ],
   "source": [
    "np.zeros((2, 3))     # 2x3 array of zeros\n",
    "np.ones((3, 3))      # 3x3 array of ones\n",
    "np.eye(3)            # 3x3 Identity matrix\n",
    "np.arange(0, 10, 2)  # [0, 2, 4, 6, 8]\n",
    "np.linspace(0, 1, 5) # 5 points between 0 and 1"
   ]
  },
  {
   "cell_type": "markdown",
   "id": "5525c5ff",
   "metadata": {},
   "source": [
    "# Step 3: Indexing & Slicing"
   ]
  },
  {
   "cell_type": "markdown",
   "id": "7aabf1a2",
   "metadata": {},
   "source": [
    "1D Indexing"
   ]
  },
  {
   "cell_type": "code",
   "execution_count": 7,
   "id": "f858126c",
   "metadata": {},
   "outputs": [
    {
     "name": "stdout",
     "output_type": "stream",
     "text": [
      "10\n",
      "40\n"
     ]
    }
   ],
   "source": [
    "arr = np.array([10, 20, 30, 40])\n",
    "print(arr[0])      # 10\n",
    "print(arr[-1])     # 40\n"
   ]
  },
  {
   "cell_type": "markdown",
   "id": "790fd0a9",
   "metadata": {},
   "source": [
    "# 2D Indexing"
   ]
  },
  {
   "cell_type": "code",
   "execution_count": 8,
   "id": "1bfc1531",
   "metadata": {},
   "outputs": [
    {
     "name": "stdout",
     "output_type": "stream",
     "text": [
      "2\n"
     ]
    }
   ],
   "source": [
    "arr2 = np.array([[1, 2, 3], [4, 5, 6]])\n",
    "print(arr2[0, 1])  # Row 0, Column 1 = 2\n"
   ]
  },
  {
   "cell_type": "markdown",
   "id": "51b38b10",
   "metadata": {},
   "source": [
    "# Slicing"
   ]
  },
  {
   "cell_type": "code",
   "execution_count": 12,
   "id": "510cf069",
   "metadata": {},
   "outputs": [
    {
     "name": "stdout",
     "output_type": "stream",
     "text": [
      "[20 30 40]\n"
     ]
    }
   ],
   "source": [
    "arr = np.array([10, 20, 30, 40, 50])\n",
    "print(arr[1:4])    # [20 30 40]"
   ]
  },
  {
   "cell_type": "markdown",
   "id": "5acf9536",
   "metadata": {},
   "source": [
    "# Step 4: Array Operations"
   ]
  },
  {
   "cell_type": "code",
   "execution_count": 13,
   "id": "2fc184ef",
   "metadata": {},
   "outputs": [
    {
     "name": "stdout",
     "output_type": "stream",
     "text": [
      "[11 22 33]\n",
      "[10 40 90]\n",
      "[1 4 9]\n"
     ]
    },
    {
     "data": {
      "text/plain": [
       "np.int64(3)"
      ]
     },
     "execution_count": 13,
     "metadata": {},
     "output_type": "execute_result"
    }
   ],
   "source": [
    "a = np.array([1, 2, 3])\n",
    "b = np.array([10, 20, 30])\n",
    "\n",
    "# Element-wise operations\n",
    "print(a + b)  # [11 22 33]\n",
    "print(a * b)  # [10 40 90]\n",
    "print(a ** 2) # [1 4 9]\n",
    "\n",
    "# Mathematical functions\n",
    "np.sum(a)\n",
    "np.mean(a)\n",
    "np.max(a)\n"
   ]
  },
  {
   "cell_type": "markdown",
   "id": "eac9cef6",
   "metadata": {},
   "source": [
    "# Step 5: Broadcasting"
   ]
  },
  {
   "cell_type": "markdown",
   "id": "a36248e8",
   "metadata": {},
   "source": [
    "Broadcasting allows NumPy to do operations on arrays of different shapes."
   ]
  },
  {
   "cell_type": "markdown",
   "id": "f94c8037",
   "metadata": {},
   "source": [
    "##Example 1: Adding a scalar to an array##"
   ]
  },
  {
   "cell_type": "code",
   "execution_count": 14,
   "id": "b8e58b24",
   "metadata": {},
   "outputs": [
    {
     "name": "stdout",
     "output_type": "stream",
     "text": [
      "[11 12 13]\n"
     ]
    }
   ],
   "source": [
    "a = np.array([1, 2, 3])\n",
    "print(a + 10)   # [11 12 13]\n"
   ]
  },
  {
   "cell_type": "markdown",
   "id": "6591ea22",
   "metadata": {},
   "source": [
    "# Example 2: 2D + 1D array"
   ]
  },
  {
   "cell_type": "code",
   "execution_count": 15,
   "id": "a8e3fdac",
   "metadata": {},
   "outputs": [
    {
     "name": "stdout",
     "output_type": "stream",
     "text": [
      "[[11 22 33]\n",
      " [14 25 36]]\n"
     ]
    }
   ],
   "source": [
    "A = np.array([[1, 2, 3],\n",
    "              [4, 5, 6]])\n",
    "\n",
    "b = np.array([10, 20, 30])\n",
    "\n",
    "print(A + b)\n",
    "# Output:\n",
    "# [[11 22 33]\n",
    "#  [14 25 36]]\n"
   ]
  },
  {
   "cell_type": "markdown",
   "id": "56fffc4a",
   "metadata": {},
   "source": [
    "# Step 6: Shape & Reshape"
   ]
  },
  {
   "cell_type": "code",
   "execution_count": 19,
   "id": "ef3ba861",
   "metadata": {},
   "outputs": [
    {
     "name": "stdout",
     "output_type": "stream",
     "text": [
      "(2, 3)\n",
      "[[1 2]\n",
      " [3 4]\n",
      " [5 6]]\n"
     ]
    }
   ],
   "source": [
    "arr = np.array([[1, 2, 3], [4, 5, 6]])\n",
    "\n",
    "print(arr.shape)        # (2, 3)\n",
    "print(arr.reshape(3, 2))  # Change shape to 3 rows, 2 columns\n"
   ]
  },
  {
   "cell_type": "markdown",
   "id": "f2daac25",
   "metadata": {},
   "source": [
    "# Step 7: Useful Array Methods"
   ]
  },
  {
   "cell_type": "code",
   "execution_count": 21,
   "id": "e2d2d476",
   "metadata": {},
   "outputs": [
    {
     "data": {
      "text/plain": [
       "array([1, 2, 3, 4, 5])"
      ]
     },
     "execution_count": 21,
     "metadata": {},
     "output_type": "execute_result"
    }
   ],
   "source": [
    "arr = np.array([5, 3, 1, 4, 2])\n",
    "\n",
    "np.sort(arr)      # [1 2 3 4 5]\n",
    "np.argsort(arr)   # [2 4 1 3 0] → indices that would sort array\n",
    "np.unique(arr)    # [1 2 3 4 5]\n"
   ]
  }
 ],
 "metadata": {
  "kernelspec": {
   "display_name": "venv",
   "language": "python",
   "name": "python3"
  },
  "language_info": {
   "codemirror_mode": {
    "name": "ipython",
    "version": 3
   },
   "file_extension": ".py",
   "mimetype": "text/x-python",
   "name": "python",
   "nbconvert_exporter": "python",
   "pygments_lexer": "ipython3",
   "version": "3.13.2"
  }
 },
 "nbformat": 4,
 "nbformat_minor": 5
}
