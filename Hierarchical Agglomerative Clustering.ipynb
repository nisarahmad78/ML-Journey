{
 "cells": [
  {
   "cell_type": "code",
   "execution_count": 1,
   "id": "c344aaaf",
   "metadata": {},
   "outputs": [
    {
     "data": {
      "text/plain": [
       "'\\nYou are the data scientist at a retail company, and the marketing team is looking to \\noptimize their promotional campaigns by targeting specific customer segments. the goal is\\nto indentify distinct groups fo customers based on their demographic information such as age, income\\nand spending score.\\n\\n'"
      ]
     },
     "execution_count": 1,
     "metadata": {},
     "output_type": "execute_result"
    }
   ],
   "source": [
    "'''\n",
    "You are the data scientist at a retail company, and the marketing team is looking to \n",
    "optimize their promotional campaigns by targeting specific customer segments. the goal is\n",
    "to indentify distinct groups fo customers based on their demographic information such as age, income\n",
    "and spending score.\n",
    "\n",
    "'''"
   ]
  },
  {
   "cell_type": "code",
   "execution_count": 14,
   "id": "f6fa6c97",
   "metadata": {},
   "outputs": [],
   "source": [
    "import numpy as np\n",
    "import pandas as pd\n",
    "import matplotlib.pyplot as plt\n",
    "from sklearn.cluster import AgglomerativeClustering\n",
    "from sklearn.preprocessing import StandardScaler\n"
   ]
  },
  {
   "cell_type": "code",
   "execution_count": 15,
   "id": "30c8e17e",
   "metadata": {},
   "outputs": [],
   "source": [
    "#data set creation\n",
    "np.random.seed(42)\n",
    "data = pd.DataFrame({'age':np.random.randint(15,65,100),\n",
    "                     'income':np.random.randint(30000,100000,100),\n",
    "                     'spending_score':np.random.randint(0,100,100)})\n",
    "standard_scaler= StandardScaler()\n",
    "scale_data = standard_scaler.fit_transform(data)"
   ]
  },
  {
   "cell_type": "code",
   "execution_count": 17,
   "id": "17564e70",
   "metadata": {},
   "outputs": [
    {
     "data": {
      "text/plain": [
       "array([2, 0, 0, 2, 0, 1, 2, 1, 1, 0, 1, 0, 2, 2, 0, 0, 1, 1, 1, 2, 0, 0,\n",
       "       1, 1, 2, 1, 0, 2, 2, 2, 0, 0, 0, 1, 0, 0, 0, 0, 0, 1, 1, 0, 0, 0,\n",
       "       1, 0, 1, 0, 0, 1, 1, 1, 1, 2, 1, 2, 1, 2, 0, 1, 0, 2, 2, 2, 1, 1,\n",
       "       1, 0, 1, 0, 0, 0, 0, 2, 0, 0, 0, 0, 2, 0, 1, 1, 0, 2, 0, 0, 2, 1,\n",
       "       0, 0, 1, 1, 2, 0, 0, 0, 2, 1, 1, 1])"
      ]
     },
     "execution_count": 17,
     "metadata": {},
     "output_type": "execute_result"
    }
   ],
   "source": [
    "model = AgglomerativeClustering(n_clusters=3,linkage='ward')\n",
    "model.fit_predict(scale_data)\n"
   ]
  }
 ],
 "metadata": {
  "kernelspec": {
   "display_name": "venv",
   "language": "python",
   "name": "python3"
  },
  "language_info": {
   "codemirror_mode": {
    "name": "ipython",
    "version": 3
   },
   "file_extension": ".py",
   "mimetype": "text/x-python",
   "name": "python",
   "nbconvert_exporter": "python",
   "pygments_lexer": "ipython3",
   "version": "3.13.2"
  }
 },
 "nbformat": 4,
 "nbformat_minor": 5
}
