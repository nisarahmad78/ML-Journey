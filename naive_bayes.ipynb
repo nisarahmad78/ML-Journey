{
 "cells": [
  {
   "cell_type": "code",
   "execution_count": 69,
   "id": "372d1dcd",
   "metadata": {},
   "outputs": [
    {
     "name": "stdout",
     "output_type": "stream",
     "text": [
      "The review is positive\n",
      "The customer review: 'i love this type of prouduct' and the classification is 'positive'\n"
     ]
    }
   ],
   "source": [
    "'''\n",
    "a company is looking to to develop a text classification model to categories customer reviews into positive and negative.\n",
    "They want to use nave bayes classification to automatically analyze and classify the reviews they receive, aim to understand customer\n",
    "satisfaction levels and sentiments.The company desire a model that can accuractely predict whether a customer review expresses a positive\n",
    "or negive sentiment\n",
    "'''\n",
    "import numpy as np\n",
    "from sklearn.feature_extraction.text import CountVectorizer\n",
    "from sklearn.naive_bayes import MultinomialNB\n",
    "\n",
    "# Reviews and labels\n",
    "reviews = ['The product is excellent and working perfectly',\n",
    "           'the product is not good very disappointing',\n",
    "           'terrible product and waste of money.',\n",
    "           'i love this product it is amazing.']\n",
    "\n",
    "sentiments = np.array([1, 0, 0, 1])\n",
    "\n",
    "# Feature extraction\n",
    "counter = CountVectorizer()\n",
    "X = counter.fit_transform(reviews)\n",
    "\n",
    "# Model training\n",
    "model = MultinomialNB()\n",
    "model.fit(X, sentiments)\n",
    "\n",
    "# Prediction function\n",
    "def customer_review(review):\n",
    "    predictt = counter.transform([review])  # wrap review in a list\n",
    "    prediction = model.predict(predictt)\n",
    "    if prediction[0] == 1:\n",
    "        print(\"The review is positive\")\n",
    "        return \"positive\"\n",
    "    else:\n",
    "        print(\"The review is negative\")\n",
    "        return \"negative\"\n",
    "\n",
    "# Input and result\n",
    "user = input(\"Please Enter your review: \")\n",
    "result = customer_review(user)\n",
    "print(f\"The customer review: '{user}' and the classification is '{result}'\")\n"
   ]
  }
 ],
 "metadata": {
  "kernelspec": {
   "display_name": "venv",
   "language": "python",
   "name": "python3"
  },
  "language_info": {
   "codemirror_mode": {
    "name": "ipython",
    "version": 3
   },
   "file_extension": ".py",
   "mimetype": "text/x-python",
   "name": "python",
   "nbconvert_exporter": "python",
   "pygments_lexer": "ipython3",
   "version": "3.13.2"
  }
 },
 "nbformat": 4,
 "nbformat_minor": 5
}
