{
 "cells": [
  {
   "cell_type": "code",
   "execution_count": null,
   "id": "372d1dcd",
   "metadata": {},
   "outputs": [],
   "source": [
    "'''\n",
    "a company is looking to to develop a text classification model to categories customer reviews into positive and negative.\n",
    "They want to use nave bayes classification to automatically analyze and classify the reviews they receive, aim to understand customer\n",
    "satisfaction levels and sentiments.The company desire a model that can accuractely predict whether a customer review expresses a positive\n",
    "or negive sentiment\n",
    "'''"
   ]
  }
 ],
 "metadata": {
  "language_info": {
   "name": "python"
  }
 },
 "nbformat": 4,
 "nbformat_minor": 5
}
