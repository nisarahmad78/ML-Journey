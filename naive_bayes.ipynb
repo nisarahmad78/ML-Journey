{
 "cells": [
  {
   "cell_type": "code",
   "execution_count": null,
   "id": "372d1dcd",
   "metadata": {},
   "outputs": [],
   "source": [
    "'''\n",
    "\n",
    "'''"
   ]
  }
 ],
 "metadata": {
  "language_info": {
   "name": "python"
  }
 },
 "nbformat": 4,
 "nbformat_minor": 5
}
