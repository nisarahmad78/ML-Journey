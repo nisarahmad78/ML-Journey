{
 "cells": [
  {
   "cell_type": "code",
   "execution_count": 19,
   "id": "d26ec797",
   "metadata": {},
   "outputs": [
    {
     "name": "stdout",
     "output_type": "stream",
     "text": [
      "[0 1 0 1]\n",
      "acuracy = 1.0\n",
      "Customer unlikely to purcahse\n"
     ]
    }
   ],
   "source": [
    "'''\n",
    "In an ecommerce company, the management want\n",
    "to predict whether a customer will purchase a high-value product based on their age, spend time on the website\n",
    "whether they have added items to their cart. The goat is to optimize marketing stratigies by targeting potential customer more\n",
    "effectivly, thereby increasing sales and revenue.\n",
    "\n",
    "'''\n",
    "\n",
    "import numpy as np\n",
    "from sklearn.model_selection import train_test_split\n",
    "from sklearn.linear_model import LogisticRegression\n",
    "\n",
    "X = np.array([[25,30,0],[30,40,1],[20,35,0],[35,45,1]])\n",
    "Y = X[:,2]\n",
    "print(Y)\n",
    "\n",
    "X_train,X_test,Y_train,Y_test = train_test_split(X,Y,test_size=.2,random_state=45)\n",
    "model = LogisticRegression()\n",
    "model.fit(X_train,Y_train)\n",
    "acuracy = model.score(X_test,Y_test)\n",
    "print(f\"acuracy = {acuracy}\")\n",
    "age = float(input(\"Enter Age: \"))\n",
    "time = float(input(\"Enter Your speding time\"))\n",
    "cart = int(input(\"1 is for cart input otherwise input 0\"))\n",
    "prediction = model.predict([[age,time,cart]])\n",
    "\n",
    "if prediction[0]== 1:\n",
    "    print(\"Customer Likely to Purchase... \")\n",
    "else:\n",
    "    print(\"Customer unlikely to purcahse\")\n",
    "\n"
   ]
  },
  {
   "cell_type": "code",
   "execution_count": null,
   "id": "834b2e5d",
   "metadata": {},
   "outputs": [],
   "source": []
  }
 ],
 "metadata": {
  "kernelspec": {
   "display_name": "venv",
   "language": "python",
   "name": "python3"
  },
  "language_info": {
   "codemirror_mode": {
    "name": "ipython",
    "version": 3
   },
   "file_extension": ".py",
   "mimetype": "text/x-python",
   "name": "python",
   "nbconvert_exporter": "python",
   "pygments_lexer": "ipython3",
   "version": "3.13.2"
  }
 },
 "nbformat": 4,
 "nbformat_minor": 5
}
